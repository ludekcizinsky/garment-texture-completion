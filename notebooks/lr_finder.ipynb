{
 "cells": [
  {
   "cell_type": "markdown",
   "metadata": {},
   "source": []
  },
  {
   "cell_type": "code",
   "execution_count": 1,
   "metadata": {},
   "outputs": [],
   "source": [
    "%load_ext autoreload\n",
    "%autoreload 2"
   ]
  },
  {
   "cell_type": "markdown",
   "metadata": {},
   "source": [
    "### LR finder\n",
    "\n",
    "Use LR finder from PL to find the optimal learning rate for the model given some fixed batch size"
   ]
  },
  {
   "cell_type": "code",
   "execution_count": 2,
   "metadata": {},
   "outputs": [],
   "source": [
    "import os\n",
    "import sys\n",
    "sys.path.insert(0, os.path.abspath(\"..\"))\n",
    "os.environ[\"PYTORCH_CUDA_ALLOC_CONF\"] = \"expandable_segments:True\"\n",
    "\n",
    "import pytorch_lightning as pl\n",
    "\n",
    "from helpers.pl_module import GarmentInpainterModule\n",
    "from helpers.dataset import get_dataloaders\n",
    "\n",
    "from omegaconf import OmegaConf"
   ]
  },
  {
   "cell_type": "code",
   "execution_count": 3,
   "metadata": {},
   "outputs": [],
   "source": [
    "cfg = OmegaConf.load(\"../configs/train.yaml\")"
   ]
  },
  {
   "cell_type": "code",
   "execution_count": 4,
   "metadata": {},
   "outputs": [
    {
     "name": "stderr",
     "output_type": "stream",
     "text": [
      "/home/cizinsky/.local/lib/python3.10/site-packages/torch/utils/data/dataloader.py:624: UserWarning: This DataLoader will create 20 worker processes in total. Our suggested max number of worker in current system is 10, which is smaller than what this DataLoader is going to create. Please be aware that excessive worker creation might get DataLoader running slow or even freeze, lower the worker number to avoid potential slowness/freeze if necessary.\n",
      "  warnings.warn(\n"
     ]
    },
    {
     "data": {
      "application/vnd.jupyter.widget-view+json": {
       "model_id": "e6e71a39df4d40b2b417dd3583efe368",
       "version_major": 2,
       "version_minor": 0
      },
      "text/plain": [
       "Loading pipeline components...:   0%|          | 0/6 [00:00<?, ?it/s]"
      ]
     },
     "metadata": {},
     "output_type": "display_data"
    },
    {
     "name": "stderr",
     "output_type": "stream",
     "text": [
      "You have disabled the safety checker for <class 'diffusers.pipelines.stable_diffusion.pipeline_stable_diffusion_instruct_pix2pix.StableDiffusionInstructPix2PixPipeline'> by passing `safety_checker=None`. Ensure that you abide to the conditions of the Stable Diffusion license and do not expose unfiltered results in services or applications open to the public. Both the diffusers team and Hugging Face strongly recommend to keep the safety filter enabled in all public facing circumstances, disabling it only for use-cases that involve analyzing network behavior or auditing its results. For more information, please have a look at https://github.com/huggingface/diffusers/pull/254 .\n",
      "/home/cizinsky/venvs/garment/lib/python3.10/site-packages/lightning_fabric/plugins/environments/slurm.py:204: The `srun` command is available on your system but is not used. HINT: If your intention is to run Lightning on SLURM, prepend your python command with `srun` like so: srun python3 /home/cizinsky/venvs/garment/lib/python3.10/site-pa ...\n",
      "Using 16bit Automatic Mixed Precision (AMP)\n",
      "You are using the plain ModelCheckpoint callback. Consider using LitModelCheckpoint which with seamless uploading to Model registry.\n",
      "GPU available: True (cuda), used: True\n",
      "TPU available: False, using: 0 TPU cores\n",
      "HPU available: False, using: 0 HPUs\n"
     ]
    }
   ],
   "source": [
    "trn_dataloader, val_dataloader = get_dataloaders(cfg)\n",
    "model = GarmentInpainterModule(cfg, trn_dataloader)\n",
    "\n",
    "trainer = pl.Trainer(\n",
    "    default_root_dir=cfg.output_dir,\n",
    "    max_steps=cfg.trainer.max_steps,\n",
    "    accelerator=cfg.trainer.accelerator,\n",
    "    devices=cfg.trainer.devices,\n",
    "    precision=cfg.trainer.precision,\n",
    "    val_check_interval=cfg.trainer.val_check_interval,\n",
    "    log_every_n_steps=cfg.trainer.log_every_n_steps,\n",
    "    deterministic=True,\n",
    "    enable_progress_bar=False,\n",
    "    # avoid epoch based traing\n",
    "    check_val_every_n_epoch=None, \n",
    "    max_epochs=10000,\n",
    ")\n",
    "\n",
    "tuner = pl.tuner.tuning.Tuner(trainer)"
   ]
  },
  {
   "cell_type": "code",
   "execution_count": 6,
   "metadata": {},
   "outputs": [
    {
     "name": "stderr",
     "output_type": "stream",
     "text": [
      "LOCAL_RANK: 0 - CUDA_VISIBLE_DEVICES: [0]\n"
     ]
    },
    {
     "data": {
      "application/vnd.jupyter.widget-view+json": {
       "model_id": "2b63578039f44d55964131ae4a320928",
       "version_major": 2,
       "version_minor": 0
      },
      "text/plain": [
       "Finding best initial lr:   0%|          | 0/100 [00:00<?, ?it/s]"
      ]
     },
     "metadata": {},
     "output_type": "display_data"
    },
    {
     "name": "stderr",
     "output_type": "stream",
     "text": [
      "LR finder stopped early after 85 steps due to diverging loss.\n",
      "Restoring states from the checkpoint path at outputs/.lr_find_f255611a-4ba9-4c0e-86c7-03886d6e70b1.ckpt\n",
      "Restored all states from the checkpoint at outputs/.lr_find_f255611a-4ba9-4c0e-86c7-03886d6e70b1.ckpt\n"
     ]
    },
    {
     "name": "stdout",
     "output_type": "stream",
     "text": [
      "{'lr': [1e-06, 1.202264434617413e-06, 1.318256738556407e-06, 1.4454397707459273e-06, 1.5848931924611134e-06, 1.7378008287493753e-06, 1.905460717963247e-06, 2.0892961308540394e-06, 2.290867652767773e-06, 2.51188643150958e-06, 2.7542287033381663e-06, 3.019951720402016e-06, 3.311311214825911e-06, 3.6307805477010137e-06, 3.981071705534972e-06, 4.36515832240166e-06, 4.786300923226383e-06, 5.248074602497725e-06, 5.754399373371569e-06, 6.309573444801933e-06, 6.918309709189363e-06, 7.585775750291837e-06, 8.317637711026711e-06, 9.120108393559096e-06, 9.999999999999999e-06, 1.0964781961431852e-05, 1.202264434617413e-05, 1.3182567385564073e-05, 1.4454397707459272e-05, 1.584893192461113e-05, 1.737800828749375e-05, 1.9054607179632474e-05, 2.0892961308540396e-05, 2.2908676527677732e-05, 2.5118864315095795e-05, 2.754228703338166e-05, 3.0199517204020158e-05, 3.311311214825911e-05, 3.630780547701014e-05, 3.9810717055349735e-05, 4.365158322401658e-05, 4.7863009232263824e-05, 5.248074602497725e-05, 5.754399373371569e-05, 6.309573444801932e-05, 6.918309709189365e-05, 7.585775750291836e-05, 8.317637711026708e-05, 9.120108393559096e-05, 9.999999999999999e-05, 0.0001096478196143185, 0.00012022644346174131, 0.0001318256738556407, 0.00014454397707459277, 0.00015848931924611142, 0.0001737800828749376, 0.00019054607179632462, 0.00020892961308540387, 0.00022908676527677723, 0.00025118864315095795, 0.00027542287033381657, 0.00030199517204020164, 0.00033113112148259105, 0.0003630780547701014, 0.0003981071705534973, 0.0004365158322401661, 0.0004786300923226385, 0.0005248074602497728, 0.0005754399373371565, 0.000630957344480193, 0.0006918309709189362, 0.0007585775750291835, 0.0008317637711026708, 0.0009120108393559096, 0.001, 0.0010964781961431851, 0.001202264434617413, 0.0013182567385564075, 0.001445439770745928, 0.0015848931924611139, 0.0017378008287493763, 0.0019054607179632462, 0.002089296130854039, 0.0022908676527677724, 0.00251188643150958], 'loss': [0.45714646276801474, 0.5849534659106101, 0.578424356847138, 0.5651439574719054, 0.5772176767749341, 0.592296335314682, 0.5841954147355822, 0.5679798808234233, 0.5685950165549507, 0.5588530419325418, 0.5434447824852348, 0.5308903707717051, 0.5213516729268846, 0.5097264764068851, 0.49780032765794596, 0.48877703585478594, 0.4777482948999277, 0.46553412304039643, 0.4533367386196768, 0.44425520026116894, 0.43600811447424714, 0.42839631679243684, 0.42255058391653866, 0.4147215062190717, 0.408676627670326, 0.40338708701014936, 0.3995386610231461, 0.3922057448871417, 0.3871438970419585, 0.380132757667006, 0.3744628462524874, 0.37055917566011204, 0.36580324581239704, 0.3605802988645273, 0.35525003987805365, 0.35118397102773175, 0.34673533610744717, 0.3429428573042645, 0.3378469378877036, 0.33279217960360674, 0.33005539461092065, 0.3293981510967559, 0.3259633253315715, 0.32292552243515343, 0.31993230810300244, 0.3194551092803943, 0.3165961526944706, 0.3137752232679508, 0.3106144412585485, 0.30920296538785563, 0.3072722036892453, 0.3055306192215319, 0.30387026389183014, 0.3022541140160165, 0.3006591794966916, 0.2992245828540121, 0.29753522249284486, 0.2957354696090297, 0.29476465862959617, 0.2924907610961481, 0.29013050169655424, 0.28808091562843346, 0.28701092919413224, 0.28590892572334076, 0.28425761517128295, 0.28320953092032725, 0.2818468765855568, 0.2804036429324311, 0.2799343949543212, 0.27990363595081363, 0.2778862801223673, 0.27706791835523775, 0.2771252872841509, 0.27613428327282297, 0.2761366260137133, 0.27531346111015964, 0.2763625397308676, 0.31501831653648693, 0.32419233203671466, 0.4789248464367966, 0.6194405758387317, 0.6732467356359039, 0.9369418427190672, 1.0224015401270306, 1.1494116765573343]}\n"
     ]
    },
    {
     "data": {
      "image/png": "[encoded data removed]",
      "text/plain": [
       "<Figure size 640x480 with 1 Axes>"
      ]
     },
     "metadata": {},
     "output_type": "display_data"
    }
   ],
   "source": [
    "# Run learning rate finder\n",
    "lr_finder = tuner.lr_find(model, trn_dataloader, min_lr=1e-6, max_lr=1e-2, num_training=100, update_attr=False)\n",
    "\n",
    "# Results can be found in\n",
    "print(lr_finder.results)\n",
    "\n",
    "# Plot with\n",
    "fig = lr_finder.plot(suggest=True)\n",
    "fig.show()\n",
    "\n",
    "# Pick point based on plot, or get suggestion\n",
    "new_lr = lr_finder.suggestion()"
   ]
  },
  {
   "cell_type": "code",
   "execution_count": 7,
   "metadata": {},
   "outputs": [
    {
     "data": {
      "text/plain": [
       "2.7542287033381663e-06"
      ]
     },
     "execution_count": 7,
     "metadata": {},
     "output_type": "execute_result"
    }
   ],
   "source": [
    "new_lr"
   ]
  }
 ],
 "metadata": {
  "language_info": {
   "name": "python"
  }
 },
 "nbformat": 4,
 "nbformat_minor": 2
}
