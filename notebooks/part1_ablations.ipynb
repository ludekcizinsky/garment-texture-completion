{
 "cells": [
  {
   "cell_type": "code",
   "execution_count": 1,
   "metadata": {},
   "outputs": [],
   "source": [
    "%load_ext autoreload\n",
    "%autoreload 2"
   ]
  },
  {
   "cell_type": "code",
   "execution_count": 10,
   "metadata": {},
   "outputs": [],
   "source": [
    "import os\n",
    "import sys\n",
    "sys.path.append('/home/cizinsky/garment-texture-completion')\n",
    "CKPT_ROOT = '/scratch/izar/cizinsky/garment-completion/checkpoints'\n",
    "\n",
    "from matplotlib import pyplot as plt\n",
    "from ipywidgets import interact, IntSlider\n",
    "import pytorch_lightning as pl\n",
    "from pytorch_lightning import Trainer\n",
    "\n",
    "\n",
    "import torch\n",
    "from torchvision.transforms.functional import pil_to_tensor\n",
    "from torchvision.utils import make_grid\n",
    "\n",
    "from helpers.pl_module import GarmentInpainterModule\n",
    "from helpers.dataset import get_dataloaders\n",
    "from helpers.data_utils import denormalise_image_torch\n",
    "from helpers.data_utils import torch_image_to_pil, denormalise_image_torch\n",
    "from helpers.metrics import compute_all_metrics\n",
    "from helpers.utils import get_model_data, get_model\n",
    "\n",
    "\n",
    "\n",
    "from tqdm import tqdm\n",
    "import wandb\n",
    "import pandas as pd"
   ]
  },
  {
   "cell_type": "markdown",
   "metadata": {},
   "source": [
    "### Ablations"
   ]
  },
  {
   "cell_type": "code",
   "execution_count": 3,
   "metadata": {},
   "outputs": [],
   "source": [
    "run_name = \"twilight-sponge-160\"\n",
    "trn_dataloader, val_dataloader = get_model_data(run_name, debug_val_size=2)"
   ]
  },
  {
   "cell_type": "code",
   "execution_count": 4,
   "metadata": {},
   "outputs": [
    {
     "data": {
      "application/vnd.jupyter.widget-view+json": {
       "model_id": "0902982fc0f74b3b84ce26db1b8d90d6",
       "version_major": 2,
       "version_minor": 0
      },
      "text/plain": [
       "Loading pipeline components...:   0%|          | 0/6 [00:00<?, ?it/s]"
      ]
     },
     "metadata": {},
     "output_type": "display_data"
    }
   ],
   "source": [
    "model, cfg = get_model(run_name, trn_dataloader)"
   ]
  },
  {
   "cell_type": "code",
   "execution_count": 5,
   "metadata": {},
   "outputs": [
    {
     "name": "stderr",
     "output_type": "stream",
     "text": [
      "/home/cizinsky/venvs/garment/lib/python3.10/site-packages/lightning_fabric/plugins/environments/slurm.py:204: The `srun` command is available on your system but is not used. HINT: If your intention is to run Lightning on SLURM, prepend your python command with `srun` like so: srun python3 /home/cizinsky/venvs/garment/lib/python3.10/site-pa ...\n",
      "You are using the plain ModelCheckpoint callback. Consider using LitModelCheckpoint which with seamless uploading to Model registry.\n",
      "GPU available: True (cuda), used: True\n",
      "TPU available: False, using: 0 TPU cores\n",
      "HPU available: False, using: 0 HPUs\n"
     ]
    }
   ],
   "source": [
    "trainer = Trainer(accelerator=\"gpu\", devices=1, logger=False, callbacks=[])"
   ]
  },
  {
   "cell_type": "code",
   "execution_count": 6,
   "metadata": {},
   "outputs": [
    {
     "name": "stderr",
     "output_type": "stream",
     "text": [
      "LOCAL_RANK: 0 - CUDA_VISIBLE_DEVICES: [0]\n"
     ]
    },
    {
     "data": {
      "application/vnd.jupyter.widget-view+json": {
       "model_id": "d0354664691a42f8a83914d2b71b1c2b",
       "version_major": 2,
       "version_minor": 0
      },
      "text/plain": [
       "Predicting: |          | 0/? [00:00<?, ?it/s]"
      ]
     },
     "metadata": {},
     "output_type": "display_data"
    },
    {
     "name": "stdout",
     "output_type": "stream",
     "text": [
      "Using text guidance scale: 1.5 and image guidance scale: 5.0\n"
     ]
    },
    {
     "data": {
      "application/vnd.jupyter.widget-view+json": {
       "model_id": "143c99fe8fd945178a39c4b1ea0e39e3",
       "version_major": 2,
       "version_minor": 0
      },
      "text/plain": [
       "  0%|          | 0/50 [00:00<?, ?it/s]"
      ]
     },
     "metadata": {},
     "output_type": "display_data"
    }
   ],
   "source": [
    "# Predict\n",
    "outputs = trainer.predict(model, val_dataloader)"
   ]
  },
  {
   "cell_type": "code",
   "execution_count": 9,
   "metadata": {},
   "outputs": [
    {
     "name": "stdout",
     "output_type": "stream",
     "text": [
      "Mean SSIM: 0.15332093834877014, Mean PSNR: 16.306791305541992, Mean LPIPS: 0.6907849311828613\n"
     ]
    }
   ],
   "source": [
    "all_ssim = torch.cat([output[\"ssim\"] for output in outputs])\n",
    "all_psnr = torch.cat([output[\"psnr\"] for output in outputs])\n",
    "all_lpips = torch.cat([output[\"lpips\"] for output in outputs])\n",
    "\n",
    "mean_ssim = all_ssim.mean()\n",
    "mean_psnr = all_psnr.mean()\n",
    "mean_lpips = all_lpips.mean()\n",
    "\n",
    "print(f\"Mean SSIM: {mean_ssim}, Mean PSNR: {mean_psnr}, Mean LPIPS: {mean_lpips}\")"
   ]
  },
  {
   "cell_type": "code",
   "execution_count": 15,
   "metadata": {},
   "outputs": [
    {
     "data": {
      "text/html": [
       "Tracking run with wandb version 0.19.7"
      ],
      "text/plain": [
       "<IPython.core.display.HTML object>"
      ]
     },
     "metadata": {},
     "output_type": "display_data"
    },
    {
     "data": {
      "text/html": [
       "Run data is saved locally in <code>/home/cizinsky/garment-texture-completion/notebooks/wandb/run-20250524_201105-fstkreeo</code>"
      ],
      "text/plain": [
       "<IPython.core.display.HTML object>"
      ]
     },
     "metadata": {},
     "output_type": "display_data"
    },
    {
     "data": {
      "text/html": [
       "Resuming run <strong><a href='https://wandb.ai/ludekcizinsky/pbr-generation/runs/fstkreeo' target=\"_blank\">twilight-sponge-160</a></strong> to <a href='https://wandb.ai/ludekcizinsky/pbr-generation' target=\"_blank\">Weights & Biases</a> (<a href='https://wandb.me/developer-guide' target=\"_blank\">docs</a>)<br>"
      ],
      "text/plain": [
       "<IPython.core.display.HTML object>"
      ]
     },
     "metadata": {},
     "output_type": "display_data"
    },
    {
     "data": {
      "text/html": [
       " View project at <a href='https://wandb.ai/ludekcizinsky/pbr-generation' target=\"_blank\">https://wandb.ai/ludekcizinsky/pbr-generation</a>"
      ],
      "text/plain": [
       "<IPython.core.display.HTML object>"
      ]
     },
     "metadata": {},
     "output_type": "display_data"
    },
    {
     "data": {
      "text/html": [
       " View run at <a href='https://wandb.ai/ludekcizinsky/pbr-generation/runs/fstkreeo' target=\"_blank\">https://wandb.ai/ludekcizinsky/pbr-generation/runs/fstkreeo</a>"
      ],
      "text/plain": [
       "<IPython.core.display.HTML object>"
      ]
     },
     "metadata": {},
     "output_type": "display_data"
    }
   ],
   "source": [
    "run = wandb.init(project=\"pbr-generation\", entity=\"ludekcizinsky\", resume=\"must\", id=\"fstkreeo\")"
   ]
  },
  {
   "cell_type": "code",
   "execution_count": 16,
   "metadata": {},
   "outputs": [
    {
     "data": {
      "text/html": [],
      "text/plain": [
       "<IPython.core.display.HTML object>"
      ]
     },
     "metadata": {},
     "output_type": "display_data"
    },
    {
     "data": {
      "text/html": [
       "<br>    <style><br>        .wandb-row {<br>            display: flex;<br>            flex-direction: row;<br>            flex-wrap: wrap;<br>            justify-content: flex-start;<br>            width: 100%;<br>        }<br>        .wandb-col {<br>            display: flex;<br>            flex-direction: column;<br>            flex-basis: 100%;<br>            flex: 1;<br>            padding: 10px;<br>        }<br>    </style><br><div class=\"wandb-row\"><div class=\"wandb-col\"><h3>Run summary:</h3><br/><table class=\"wandb\"><tr><td>dev/lpips</td><td>0.69078</td></tr><tr><td>dev/psnr</td><td>16.30679</td></tr><tr><td>dev/ssim</td><td>0.15332</td></tr><tr><td>epoch</td><td>0</td></tr><tr><td>optim/grad_norm_postclip</td><td>0.35911</td></tr><tr><td>optim/grad_norm_preclip</td><td>0.35911</td></tr><tr><td>optim/lr</td><td>1e-05</td></tr><tr><td>train/ddim_loss</td><td>0.19605</td></tr><tr><td>train/loss</td><td>0.1647</td></tr><tr><td>train/mse_loss</td><td>0.11569</td></tr><tr><td>trainer/global_step</td><td>22489</td></tr><tr><td>val/ddim_loss</td><td>0.19102</td></tr><tr><td>val/loss</td><td>0.15631</td></tr><tr><td>val/lpips</td><td>0.66829</td></tr><tr><td>val/mse_loss</td><td>0.10856</td></tr><tr><td>val/psnr</td><td>10.35492</td></tr><tr><td>val/ssim</td><td>0.07502</td></tr></table><br/></div></div>"
      ],
      "text/plain": [
       "<IPython.core.display.HTML object>"
      ]
     },
     "metadata": {},
     "output_type": "display_data"
    },
    {
     "data": {
      "text/html": [
       " View run <strong style=\"color:#cdcd00\">twilight-sponge-160</strong> at: <a href='https://wandb.ai/ludekcizinsky/pbr-generation/runs/fstkreeo' target=\"_blank\">https://wandb.ai/ludekcizinsky/pbr-generation/runs/fstkreeo</a><br> View project at: <a href='https://wandb.ai/ludekcizinsky/pbr-generation' target=\"_blank\">https://wandb.ai/ludekcizinsky/pbr-generation</a><br>Synced 5 W&B file(s), 0 media file(s), 0 artifact file(s) and 0 other file(s)"
      ],
      "text/plain": [
       "<IPython.core.display.HTML object>"
      ]
     },
     "metadata": {},
     "output_type": "display_data"
    },
    {
     "data": {
      "text/html": [
       "Find logs at: <code>./wandb/run-20250524_201105-fstkreeo/logs</code>"
      ],
      "text/plain": [
       "<IPython.core.display.HTML object>"
      ]
     },
     "metadata": {},
     "output_type": "display_data"
    }
   ],
   "source": [
    "# your post‐train metrics\n",
    "final_metrics = {\n",
    "    \"dev/ssim\": mean_ssim,\n",
    "    \"dev/psnr\": mean_psnr,\n",
    "    \"dev/lpips\": mean_lpips\n",
    "}\n",
    "\n",
    "# write them to the summary\n",
    "run.summary.update(final_metrics)\n",
    "\n",
    "run.finish()"
   ]
  },
  {
   "cell_type": "code",
   "execution_count": null,
   "metadata": {},
   "outputs": [],
   "source": []
  }
 ],
 "metadata": {
  "kernelspec": {
   "display_name": "garment",
   "language": "python",
   "name": "python3"
  },
  "language_info": {
   "name": "python",
   "version": "3.10.4"
  }
 },
 "nbformat": 4,
 "nbformat_minor": 2
}
