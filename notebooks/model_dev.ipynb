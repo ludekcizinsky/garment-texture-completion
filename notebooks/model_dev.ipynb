{
 "cells": [
  {
   "cell_type": "code",
   "execution_count": 1,
   "metadata": {},
   "outputs": [
    {
     "data": {
      "application/vnd.jupyter.widget-view+json": {
       "model_id": "e0d3e3ce40304485af00b86cb974fa4f",
       "version_major": 2,
       "version_minor": 0
      },
      "text/plain": [
       "config.json:   0%|          | 0.00/743 [00:00<?, ?B/s]"
      ]
     },
     "metadata": {},
     "output_type": "display_data"
    }
   ],
   "source": [
    "from diffusers import UNet2DConditionModel\n",
    "\n",
    "# 1. Pull the architecture settings (but not the weights) from SD v1.5:\n",
    "config = UNet2DConditionModel.load_config(\n",
    "    \"runwayml/stable-diffusion-v1-5\", subfolder=\"unet\"\n",
    ")\n",
    "# 2. Build a fresh UNet model from that config:\n",
    "custom_unet = UNet2DConditionModel.from_config(config)\n",
    "assert custom_unet is not None"
   ]
  },
  {
   "cell_type": "code",
   "execution_count": 2,
   "metadata": {},
   "outputs": [
    {
     "data": {
      "text/plain": [
       "{'_class_name': 'UNet2DConditionModel',\n",
       " '_diffusers_version': '0.6.0',\n",
       " 'act_fn': 'silu',\n",
       " 'attention_head_dim': 8,\n",
       " 'block_out_channels': [320, 640, 1280, 1280],\n",
       " 'center_input_sample': False,\n",
       " 'cross_attention_dim': 768,\n",
       " 'down_block_types': ['CrossAttnDownBlock2D',\n",
       "  'CrossAttnDownBlock2D',\n",
       "  'CrossAttnDownBlock2D',\n",
       "  'DownBlock2D'],\n",
       " 'downsample_padding': 1,\n",
       " 'flip_sin_to_cos': True,\n",
       " 'freq_shift': 0,\n",
       " 'in_channels': 4,\n",
       " 'layers_per_block': 2,\n",
       " 'mid_block_scale_factor': 1,\n",
       " 'norm_eps': 1e-05,\n",
       " 'norm_num_groups': 32,\n",
       " 'out_channels': 4,\n",
       " 'sample_size': 64,\n",
       " 'up_block_types': ['UpBlock2D',\n",
       "  'CrossAttnUpBlock2D',\n",
       "  'CrossAttnUpBlock2D',\n",
       "  'CrossAttnUpBlock2D']}"
      ]
     },
     "execution_count": 2,
     "metadata": {},
     "output_type": "execute_result"
    }
   ],
   "source": [
    "config"
   ]
  },
  {
   "cell_type": "code",
   "execution_count": null,
   "metadata": {},
   "outputs": [],
   "source": []
  }
 ],
 "metadata": {
  "language_info": {
   "name": "python"
  }
 },
 "nbformat": 4,
 "nbformat_minor": 2
}
