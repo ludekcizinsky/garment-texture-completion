{
 "cells": [
  {
   "cell_type": "code",
   "execution_count": 1,
   "metadata": {},
   "outputs": [],
   "source": [
    "from diffusers import UNet2DConditionModel"
   ]
  },
  {
   "cell_type": "code",
   "execution_count": 2,
   "metadata": {},
   "outputs": [],
   "source": [
    "# 1. Pull the architecture settings (but not the weights) from SD v1.5:\n",
    "# model_id = \"runwayml/stable-diffusion-v1-5\"\n",
    "model_id = \"timbrooks/instruct-pix2pix\"\n",
    "config = UNet2DConditionModel.load_config(\n",
    "    model_id, subfolder=\"unet\"\n",
    ")\n",
    "# 2. Build a fresh UNet model from that config:\n",
    "original_unet = UNet2DConditionModel.from_config(config)"
   ]
  },
  {
   "cell_type": "code",
   "execution_count": 9,
   "metadata": {},
   "outputs": [
    {
     "data": {
      "text/plain": [
       "{'_class_name': 'UNet2DConditionModel',\n",
       " '_diffusers_version': '0.12.0.dev0',\n",
       " 'act_fn': 'silu',\n",
       " 'attention_head_dim': 8,\n",
       " 'block_out_channels': [320, 640, 1280, 1280],\n",
       " 'center_input_sample': False,\n",
       " 'class_embed_type': None,\n",
       " 'cross_attention_dim': 768,\n",
       " 'down_block_types': ['CrossAttnDownBlock2D',\n",
       "  'CrossAttnDownBlock2D',\n",
       "  'CrossAttnDownBlock2D',\n",
       "  'DownBlock2D'],\n",
       " 'downsample_padding': 1,\n",
       " 'dual_cross_attention': False,\n",
       " 'flip_sin_to_cos': True,\n",
       " 'freq_shift': 0,\n",
       " 'in_channels': 8,\n",
       " 'layers_per_block': 2,\n",
       " 'mid_block_scale_factor': 1,\n",
       " 'mid_block_type': 'UNetMidBlock2DCrossAttn',\n",
       " 'norm_eps': 1e-05,\n",
       " 'norm_num_groups': 32,\n",
       " 'num_class_embeds': None,\n",
       " 'only_cross_attention': False,\n",
       " 'out_channels': 4,\n",
       " 'resnet_time_scale_shift': 'default',\n",
       " 'sample_size': 64,\n",
       " 'up_block_types': ['UpBlock2D',\n",
       "  'CrossAttnUpBlock2D',\n",
       "  'CrossAttnUpBlock2D',\n",
       "  'CrossAttnUpBlock2D'],\n",
       " 'upcast_attention': False,\n",
       " 'use_linear_projection': False}"
      ]
     },
     "execution_count": 9,
     "metadata": {},
     "output_type": "execute_result"
    }
   ],
   "source": [
    "config"
   ]
  },
  {
   "cell_type": "code",
   "execution_count": 5,
   "metadata": {},
   "outputs": [
    {
     "data": {
      "text/plain": [
       "diffusers.models.unets.unet_2d_condition.UNet2DConditionModel"
      ]
     },
     "execution_count": 5,
     "metadata": {},
     "output_type": "execute_result"
    }
   ],
   "source": [
    "# Show original model size\n",
    "type(original_unet)"
   ]
  },
  {
   "cell_type": "code",
   "execution_count": 7,
   "metadata": {},
   "outputs": [
    {
     "name": "stdout",
     "output_type": "stream",
     "text": [
      "Total number of parameters: 859,532,484\n"
     ]
    }
   ],
   "source": [
    "# Calculate the total number of parameters\n",
    "total_params = sum(p.numel() for p in original_unet.parameters())\n",
    "\n",
    "# Format it nicely with commas\n",
    "print(f\"Total number of parameters: {total_params:,}\")"
   ]
  },
  {
   "cell_type": "code",
   "execution_count": 13,
   "metadata": {},
   "outputs": [
    {
     "name": "stdout",
     "output_type": "stream",
     "text": [
      "Custom model size: 137,128,836\n",
      "Difference: 722,403,648\n"
     ]
    }
   ],
   "source": [
    "custom_config = config.copy()\n",
    "custom_config['cross_attention_dim'] = 256\n",
    "custom_config['block_out_channels'] = (128, 256, 512, 512)\n",
    "\n",
    "custom_unet = UNet2DConditionModel.from_config(custom_config)\n",
    "\n",
    "# Show custom model size\n",
    "custom_total_params = sum(p.numel() for p in custom_unet.parameters())\n",
    "print(f\"Custom model size: {custom_total_params:,}\")\n",
    "\n",
    "# Show the difference\n",
    "print(f\"Difference: {total_params - custom_total_params:,}\")"
   ]
  }
 ],
 "metadata": {
  "language_info": {
   "name": "python"
  }
 },
 "nbformat": 4,
 "nbformat_minor": 2
}
