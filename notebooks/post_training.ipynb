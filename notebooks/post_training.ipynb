{
 "cells": [
  {
   "cell_type": "code",
   "execution_count": 1,
   "metadata": {},
   "outputs": [],
   "source": [
    "%load_ext autoreload\n",
    "%autoreload 2"
   ]
  },
  {
   "cell_type": "code",
   "execution_count": 10,
   "metadata": {},
   "outputs": [],
   "source": [
    "import os\n",
    "import sys\n",
    "sys.path.append('/home/cizinsky/garment-texture-completion')\n",
    "CKPT_ROOT = '/scratch/izar/cizinsky/garment-completion/checkpoints'\n",
    "\n",
    "from matplotlib import pyplot as plt\n",
    "from ipywidgets import interact, IntSlider\n",
    "import pytorch_lightning as pl\n",
    "\n",
    "import torch\n",
    "from torchvision.transforms.functional import pil_to_tensor\n",
    "from torchvision.utils import make_grid\n",
    "\n",
    "from helpers.pl_module import GarmentInpainterModule\n",
    "from helpers.dataset import get_dataloaders\n",
    "from helpers.data_utils import denormalise_image_torch\n",
    "from helpers.data_utils import torch_image_to_pil, denormalise_image_torch\n",
    "from helpers.metrics import compute_all_metrics\n",
    "\n",
    "from tqdm import tqdm\n",
    "\n",
    "import pandas as pd"
   ]
  },
  {
   "cell_type": "code",
   "execution_count": 3,
   "metadata": {},
   "outputs": [
    {
     "name": "stderr",
     "output_type": "stream",
     "text": [
      "Seed set to 42\n"
     ]
    }
   ],
   "source": [
    "pl.seed_everything(42);"
   ]
  },
  {
   "cell_type": "markdown",
   "metadata": {},
   "source": [
    "### Inspection of trained models\n",
    "\n",
    "---\n"
   ]
  },
  {
   "cell_type": "code",
   "execution_count": 4,
   "metadata": {},
   "outputs": [
    {
     "name": "stdout",
     "output_type": "stream",
     "text": [
      "bright-universe-112  fast-universe-159\t    rose-sun-129\n",
      "cerulean-smoke-152   fearless-jazz-157\t    sandy-capybara-119\n",
      "cerulean-star-109    fluent-aardvark-116    soft-dust-146\n",
      "cosmic-cosmos-123    glamorous-thunder-121  stellar-feather-136\n",
      "crisp-cosmos-153     glorious-oath-130\t    stellar-pond-132\n",
      "curious-oath-144     glowing-disco-164\t    swift-lake-110\n",
      "devout-wind-122      graceful-cloud-156     twilight-sponge-160\n",
      "eager-energy-111     grateful-terrain-163   unique-water-133\n",
      "exalted-forest-117   honest-bird-113\t    valiant-resonance-120\n",
      "faithful-dew-158     lilac-hill-102\t    vivid-smoke-128\n",
      "fallen-dew-140\t     morning-microwave-118  worthy-paper-139\n",
      "fallen-shape-155     peach-firebrand-106\n"
     ]
    }
   ],
   "source": [
    "!ls /scratch/izar/cizinsky/garment-completion/checkpoints/"
   ]
  },
  {
   "cell_type": "code",
   "execution_count": 5,
   "metadata": {},
   "outputs": [
    {
     "data": {
      "text/plain": [
       "True"
      ]
     },
     "execution_count": 5,
     "metadata": {},
     "output_type": "execute_result"
    }
   ],
   "source": [
    "run_name = \"fast-universe-159\"\n",
    "checkpoint_path = f\"{CKPT_ROOT}/{run_name}/last.ckpt\"\n",
    "os.path.exists(checkpoint_path)"
   ]
  },
  {
   "cell_type": "code",
   "execution_count": 6,
   "metadata": {},
   "outputs": [],
   "source": [
    "checkpoint = torch.load(checkpoint_path, map_location=\"cpu\", weights_only=False)\n",
    "cfg = checkpoint[\"hyper_parameters\"]\n",
    "cfg.data.num_workers = 10\n",
    "cfg.data.batch_size = 2\n",
    "trn_dataloader, val_dataloader = get_dataloaders(cfg)"
   ]
  },
  {
   "cell_type": "code",
   "execution_count": 7,
   "metadata": {},
   "outputs": [
    {
     "data": {
      "application/vnd.jupyter.widget-view+json": {
       "model_id": "57a329b6360544008f116c3bc3996267",
       "version_major": 2,
       "version_minor": 0
      },
      "text/plain": [
       "Loading pipeline components...:   0%|          | 0/6 [00:00<?, ?it/s]"
      ]
     },
     "metadata": {},
     "output_type": "display_data"
    },
    {
     "name": "stdout",
     "output_type": "stream",
     "text": [
      "✅ Model loaded!\n"
     ]
    }
   ],
   "source": [
    "model = GarmentInpainterModule(cfg, trn_dataloader)\n",
    "model.setup()\n",
    "model.load_state_dict(checkpoint[\"state_dict\"])\n",
    "model.eval().cuda()\n",
    "print(\"✅ Model loaded!\")"
   ]
  },
  {
   "cell_type": "code",
   "execution_count": 8,
   "metadata": {},
   "outputs": [],
   "source": [
    "max_n_batches = 5\n",
    "val_batches = [next(iter(val_dataloader)) for _ in range(max_n_batches)]"
   ]
  },
  {
   "cell_type": "code",
   "execution_count": 9,
   "metadata": {},
   "outputs": [
    {
     "name": "stderr",
     "output_type": "stream",
     "text": [
      "img_scale=2.5, text_scale=2.5:   0%|          | 0/5 [00:00<?, ?it/s]"
     ]
    },
    {
     "data": {
      "application/vnd.jupyter.widget-view+json": {
       "model_id": "3960a4994de6420a90cefcf6cd31b4a7",
       "version_major": 2,
       "version_minor": 0
      },
      "text/plain": [
       "  0%|          | 0/50 [00:00<?, ?it/s]"
      ]
     },
     "metadata": {},
     "output_type": "display_data"
    },
    {
     "name": "stderr",
     "output_type": "stream",
     "text": [
      "img_scale=2.5, text_scale=2.5:  20%|██        | 1/5 [00:21<01:27, 21.94s/it]"
     ]
    },
    {
     "data": {
      "application/vnd.jupyter.widget-view+json": {
       "model_id": "49de38a48b68442187c21e57e4947302",
       "version_major": 2,
       "version_minor": 0
      },
      "text/plain": [
       "  0%|          | 0/50 [00:00<?, ?it/s]"
      ]
     },
     "metadata": {},
     "output_type": "display_data"
    },
    {
     "name": "stderr",
     "output_type": "stream",
     "text": [
      "img_scale=2.5, text_scale=2.5:  40%|████      | 2/5 [00:42<01:03, 21.19s/it]"
     ]
    },
    {
     "data": {
      "application/vnd.jupyter.widget-view+json": {
       "model_id": "377e84e0288a45fbb18540c8410e0b8b",
       "version_major": 2,
       "version_minor": 0
      },
      "text/plain": [
       "  0%|          | 0/50 [00:00<?, ?it/s]"
      ]
     },
     "metadata": {},
     "output_type": "display_data"
    },
    {
     "name": "stderr",
     "output_type": "stream",
     "text": [
      "img_scale=2.5, text_scale=2.5:  60%|██████    | 3/5 [01:03<00:41, 20.98s/it]"
     ]
    },
    {
     "data": {
      "application/vnd.jupyter.widget-view+json": {
       "model_id": "91e2d66bafca466fa0e80a1fcb235e2c",
       "version_major": 2,
       "version_minor": 0
      },
      "text/plain": [
       "  0%|          | 0/50 [00:00<?, ?it/s]"
      ]
     },
     "metadata": {},
     "output_type": "display_data"
    },
    {
     "name": "stderr",
     "output_type": "stream",
     "text": [
      "img_scale=2.5, text_scale=2.5:  80%|████████  | 4/5 [01:24<00:20, 20.90s/it]"
     ]
    },
    {
     "data": {
      "application/vnd.jupyter.widget-view+json": {
       "model_id": "61ce1b86933244229547968824f3cbf2",
       "version_major": 2,
       "version_minor": 0
      },
      "text/plain": [
       "  0%|          | 0/50 [00:00<?, ?it/s]"
      ]
     },
     "metadata": {},
     "output_type": "display_data"
    },
    {
     "name": "stderr",
     "output_type": "stream",
     "text": [
      "img_scale=2.5, text_scale=2.5: 100%|██████████| 5/5 [01:44<00:00, 20.98s/it]\n",
      "img_scale=2.5, text_scale=5.0:   0%|          | 0/5 [00:00<?, ?it/s]"
     ]
    },
    {
     "data": {
      "application/vnd.jupyter.widget-view+json": {
       "model_id": "1e038a863d674e6fae36c0b20db4e1c7",
       "version_major": 2,
       "version_minor": 0
      },
      "text/plain": [
       "  0%|          | 0/50 [00:00<?, ?it/s]"
      ]
     },
     "metadata": {},
     "output_type": "display_data"
    },
    {
     "name": "stderr",
     "output_type": "stream",
     "text": [
      "img_scale=2.5, text_scale=5.0:  20%|██        | 1/5 [00:20<01:23, 20.79s/it]"
     ]
    },
    {
     "data": {
      "application/vnd.jupyter.widget-view+json": {
       "model_id": "e4d67f8c807e4d2b83d739fee15d9477",
       "version_major": 2,
       "version_minor": 0
      },
      "text/plain": [
       "  0%|          | 0/50 [00:00<?, ?it/s]"
      ]
     },
     "metadata": {},
     "output_type": "display_data"
    },
    {
     "name": "stderr",
     "output_type": "stream",
     "text": [
      "img_scale=2.5, text_scale=5.0:  40%|████      | 2/5 [00:41<01:02, 20.79s/it]"
     ]
    },
    {
     "data": {
      "application/vnd.jupyter.widget-view+json": {
       "model_id": "392ed48147f4448fa943d469329d9e45",
       "version_major": 2,
       "version_minor": 0
      },
      "text/plain": [
       "  0%|          | 0/50 [00:00<?, ?it/s]"
      ]
     },
     "metadata": {},
     "output_type": "display_data"
    },
    {
     "name": "stderr",
     "output_type": "stream",
     "text": [
      "img_scale=2.5, text_scale=5.0:  60%|██████    | 3/5 [01:02<00:41, 20.80s/it]"
     ]
    },
    {
     "data": {
      "application/vnd.jupyter.widget-view+json": {
       "model_id": "946b1d36e3af4b42b710df80c9dd5b2e",
       "version_major": 2,
       "version_minor": 0
      },
      "text/plain": [
       "  0%|          | 0/50 [00:00<?, ?it/s]"
      ]
     },
     "metadata": {},
     "output_type": "display_data"
    },
    {
     "name": "stderr",
     "output_type": "stream",
     "text": [
      "img_scale=2.5, text_scale=5.0:  80%|████████  | 4/5 [01:23<00:20, 20.81s/it]"
     ]
    },
    {
     "data": {
      "application/vnd.jupyter.widget-view+json": {
       "model_id": "a897eb6f873d4ece99aa2d753b5322db",
       "version_major": 2,
       "version_minor": 0
      },
      "text/plain": [
       "  0%|          | 0/50 [00:00<?, ?it/s]"
      ]
     },
     "metadata": {},
     "output_type": "display_data"
    },
    {
     "name": "stderr",
     "output_type": "stream",
     "text": [
      "img_scale=2.5, text_scale=5.0: 100%|██████████| 5/5 [01:44<00:00, 20.81s/it]\n",
      "img_scale=5.0, text_scale=2.5:   0%|          | 0/5 [00:00<?, ?it/s]"
     ]
    },
    {
     "data": {
      "application/vnd.jupyter.widget-view+json": {
       "model_id": "9f8fcb6f56ca4d9ab26bd728d7ac6847",
       "version_major": 2,
       "version_minor": 0
      },
      "text/plain": [
       "  0%|          | 0/50 [00:00<?, ?it/s]"
      ]
     },
     "metadata": {},
     "output_type": "display_data"
    },
    {
     "name": "stderr",
     "output_type": "stream",
     "text": [
      "img_scale=5.0, text_scale=2.5:  20%|██        | 1/5 [00:20<01:23, 20.82s/it]"
     ]
    },
    {
     "data": {
      "application/vnd.jupyter.widget-view+json": {
       "model_id": "8770c6e4efd644b6a24f48b0acf0abeb",
       "version_major": 2,
       "version_minor": 0
      },
      "text/plain": [
       "  0%|          | 0/50 [00:00<?, ?it/s]"
      ]
     },
     "metadata": {},
     "output_type": "display_data"
    },
    {
     "name": "stderr",
     "output_type": "stream",
     "text": [
      "img_scale=5.0, text_scale=2.5:  40%|████      | 2/5 [00:41<01:02, 20.84s/it]"
     ]
    },
    {
     "data": {
      "application/vnd.jupyter.widget-view+json": {
       "model_id": "2aab98dd9ccf4cb89a5e0efc9cd27de1",
       "version_major": 2,
       "version_minor": 0
      },
      "text/plain": [
       "  0%|          | 0/50 [00:00<?, ?it/s]"
      ]
     },
     "metadata": {},
     "output_type": "display_data"
    },
    {
     "name": "stderr",
     "output_type": "stream",
     "text": [
      "img_scale=5.0, text_scale=2.5:  60%|██████    | 3/5 [01:02<00:41, 20.84s/it]"
     ]
    },
    {
     "data": {
      "application/vnd.jupyter.widget-view+json": {
       "model_id": "19425a24b3ec46c882f79f63fe3b3402",
       "version_major": 2,
       "version_minor": 0
      },
      "text/plain": [
       "  0%|          | 0/50 [00:00<?, ?it/s]"
      ]
     },
     "metadata": {},
     "output_type": "display_data"
    },
    {
     "name": "stderr",
     "output_type": "stream",
     "text": [
      "img_scale=5.0, text_scale=2.5:  80%|████████  | 4/5 [01:23<00:20, 20.84s/it]"
     ]
    },
    {
     "data": {
      "application/vnd.jupyter.widget-view+json": {
       "model_id": "c44d2e8a782b40398c2c1ab0c03bd9b0",
       "version_major": 2,
       "version_minor": 0
      },
      "text/plain": [
       "  0%|          | 0/50 [00:00<?, ?it/s]"
      ]
     },
     "metadata": {},
     "output_type": "display_data"
    },
    {
     "name": "stderr",
     "output_type": "stream",
     "text": [
      "img_scale=5.0, text_scale=2.5: 100%|██████████| 5/5 [01:44<00:00, 20.84s/it]\n",
      "img_scale=5.0, text_scale=5.0:   0%|          | 0/5 [00:00<?, ?it/s]"
     ]
    },
    {
     "data": {
      "application/vnd.jupyter.widget-view+json": {
       "model_id": "c0fb82cba04644e796914d02c1f46a63",
       "version_major": 2,
       "version_minor": 0
      },
      "text/plain": [
       "  0%|          | 0/50 [00:00<?, ?it/s]"
      ]
     },
     "metadata": {},
     "output_type": "display_data"
    },
    {
     "name": "stderr",
     "output_type": "stream",
     "text": [
      "img_scale=5.0, text_scale=5.0:  20%|██        | 1/5 [00:20<01:23, 20.83s/it]"
     ]
    },
    {
     "data": {
      "application/vnd.jupyter.widget-view+json": {
       "model_id": "e0b232582f99494d8274265df9e6fe81",
       "version_major": 2,
       "version_minor": 0
      },
      "text/plain": [
       "  0%|          | 0/50 [00:00<?, ?it/s]"
      ]
     },
     "metadata": {},
     "output_type": "display_data"
    },
    {
     "name": "stderr",
     "output_type": "stream",
     "text": [
      "img_scale=5.0, text_scale=5.0:  40%|████      | 2/5 [00:41<01:02, 20.84s/it]"
     ]
    },
    {
     "data": {
      "application/vnd.jupyter.widget-view+json": {
       "model_id": "abf71a0a02c444aaae521840856b5193",
       "version_major": 2,
       "version_minor": 0
      },
      "text/plain": [
       "  0%|          | 0/50 [00:00<?, ?it/s]"
      ]
     },
     "metadata": {},
     "output_type": "display_data"
    },
    {
     "name": "stderr",
     "output_type": "stream",
     "text": [
      "img_scale=5.0, text_scale=5.0:  60%|██████    | 3/5 [01:02<00:41, 20.83s/it]"
     ]
    },
    {
     "data": {
      "application/vnd.jupyter.widget-view+json": {
       "model_id": "5aaf1dec6e604b3cbd784eb512f9d9c0",
       "version_major": 2,
       "version_minor": 0
      },
      "text/plain": [
       "  0%|          | 0/50 [00:00<?, ?it/s]"
      ]
     },
     "metadata": {},
     "output_type": "display_data"
    },
    {
     "name": "stderr",
     "output_type": "stream",
     "text": [
      "img_scale=5.0, text_scale=5.0:  80%|████████  | 4/5 [01:23<00:20, 20.84s/it]"
     ]
    },
    {
     "data": {
      "application/vnd.jupyter.widget-view+json": {
       "model_id": "cf521d5a665f42f7bd4bd2d2d21b3d25",
       "version_major": 2,
       "version_minor": 0
      },
      "text/plain": [
       "  0%|          | 0/50 [00:00<?, ?it/s]"
      ]
     },
     "metadata": {},
     "output_type": "display_data"
    },
    {
     "name": "stderr",
     "output_type": "stream",
     "text": [
      "img_scale=5.0, text_scale=5.0: 100%|██████████| 5/5 [01:44<00:00, 20.84s/it]\n"
     ]
    }
   ],
   "source": [
    "image_guidance_scale = [2.5, 5.0] # [2.5, 5.0, 7.5, 10.0]\n",
    "text_guidance_scale = [2.5, 5.0] # [2.5, 5.0, 7.5, 10.0]\n",
    "\n",
    "rows = []\n",
    "for img_scale in image_guidance_scale:\n",
    "    for text_scale in text_guidance_scale:\n",
    "        sample_idx = 0\n",
    "        for batch in tqdm(val_batches, desc=f\"img_scale={img_scale}, text_scale={text_scale}\"):\n",
    "            pred_imgs = model.inference(batch[\"partial_diffuse_img\"].to(\"cuda\"), num_inference_steps=50, guidance_scale=text_scale, image_guidance_scale=img_scale)\n",
    "            pred_imgs_tensors = torch.stack([pil_to_tensor(img) for img in pred_imgs]).to(\"cuda\") / 255.0\n",
    "            target_imgs = denormalise_image_torch(batch[\"full_diffuse_img\"].to(\"cuda\"))\n",
    "            image_metrics = compute_all_metrics(pred_imgs_tensors, target_imgs)\n",
    "\n",
    "            for i in range(len(pred_imgs)):\n",
    "                ith_ssim = image_metrics[\"ssim\"][i]\n",
    "                ith_psnr = image_metrics[\"psnr\"][i]\n",
    "                ith_lpips = image_metrics[\"lpips\"][i]\n",
    "                rows.append({\n",
    "                    \"img_scale\": img_scale,\n",
    "                    \"text_scale\": text_scale,\n",
    "                    \"ssim\": ith_ssim.item(),\n",
    "                    \"psnr\": ith_psnr.item(),\n",
    "                    \"lpips\": ith_lpips.item(),\n",
    "                    \"sample_idx\": sample_idx,\n",
    "                })\n",
    "                sample_idx += 1"
   ]
  },
  {
   "cell_type": "code",
   "execution_count": 24,
   "metadata": {},
   "outputs": [
    {
     "data": {
      "text/html": [
       "<div>\n",
       "<style scoped>\n",
       "    .dataframe tbody tr th:only-of-type {\n",
       "        vertical-align: middle;\n",
       "    }\n",
       "\n",
       "    .dataframe tbody tr th {\n",
       "        vertical-align: top;\n",
       "    }\n",
       "\n",
       "    .dataframe thead th {\n",
       "        text-align: right;\n",
       "    }\n",
       "</style>\n",
       "<table border=\"1\" class=\"dataframe\">\n",
       "  <thead>\n",
       "    <tr style=\"text-align: right;\">\n",
       "      <th></th>\n",
       "      <th></th>\n",
       "      <th>ssim</th>\n",
       "      <th>psnr</th>\n",
       "      <th>lpips</th>\n",
       "    </tr>\n",
       "    <tr>\n",
       "      <th>img_scale</th>\n",
       "      <th>text_scale</th>\n",
       "      <th></th>\n",
       "      <th></th>\n",
       "      <th></th>\n",
       "    </tr>\n",
       "  </thead>\n",
       "  <tbody>\n",
       "    <tr>\n",
       "      <th rowspan=\"2\" valign=\"top\">2.5</th>\n",
       "      <th>2.5</th>\n",
       "      <td>0.070754</td>\n",
       "      <td>12.672301</td>\n",
       "      <td>0.713807</td>\n",
       "    </tr>\n",
       "    <tr>\n",
       "      <th>5.0</th>\n",
       "      <td>0.107561</td>\n",
       "      <td>13.733600</td>\n",
       "      <td>0.717837</td>\n",
       "    </tr>\n",
       "    <tr>\n",
       "      <th rowspan=\"2\" valign=\"top\">5.0</th>\n",
       "      <th>2.5</th>\n",
       "      <td>0.125872</td>\n",
       "      <td>13.313280</td>\n",
       "      <td>0.819344</td>\n",
       "    </tr>\n",
       "    <tr>\n",
       "      <th>5.0</th>\n",
       "      <td>0.125178</td>\n",
       "      <td>14.769055</td>\n",
       "      <td>0.696974</td>\n",
       "    </tr>\n",
       "  </tbody>\n",
       "</table>\n",
       "</div>"
      ],
      "text/plain": [
       "                          ssim       psnr     lpips\n",
       "img_scale text_scale                               \n",
       "2.5       2.5         0.070754  12.672301  0.713807\n",
       "          5.0         0.107561  13.733600  0.717837\n",
       "5.0       2.5         0.125872  13.313280  0.819344\n",
       "          5.0         0.125178  14.769055  0.696974"
      ]
     },
     "execution_count": 24,
     "metadata": {},
     "output_type": "execute_result"
    }
   ],
   "source": [
    "df = pd.DataFrame(rows, columns=[\"sample_idx\", \"img_scale\", \"text_scale\", \"ssim\", \"psnr\", \"lpips\"])\n",
    "df\n",
    "\n",
    "# group by img_scale and text_scale and compute mean of ssim, psnr, lpips + do not show sample_idx\n",
    "df.groupby([\"img_scale\", \"text_scale\"]).mean()[[\"ssim\", \"psnr\", \"lpips\"]]"
   ]
  },
  {
   "cell_type": "code",
   "execution_count": 25,
   "metadata": {},
   "outputs": [],
   "source": [
    "import wandb"
   ]
  },
  {
   "cell_type": "code",
   "execution_count": 26,
   "metadata": {},
   "outputs": [
    {
     "name": "stderr",
     "output_type": "stream",
     "text": [
      "\u001b[34m\u001b[1mwandb\u001b[0m: Using wandb-core as the SDK backend.  Please refer to https://wandb.me/wandb-core for more information.\n",
      "\u001b[34m\u001b[1mwandb\u001b[0m: Currently logged in as: \u001b[33mludekcizinsky\u001b[0m to \u001b[32mhttps://api.wandb.ai\u001b[0m. Use \u001b[1m`wandb login --relogin`\u001b[0m to force relogin\n"
     ]
    },
    {
     "data": {
      "text/html": [
       "Tracking run with wandb version 0.19.7"
      ],
      "text/plain": [
       "<IPython.core.display.HTML object>"
      ]
     },
     "metadata": {},
     "output_type": "display_data"
    },
    {
     "data": {
      "text/html": [
       "Run data is saved locally in <code>/home/cizinsky/garment-texture-completion/notebooks/wandb/run-20250518_235421-w5daifhx</code>"
      ],
      "text/plain": [
       "<IPython.core.display.HTML object>"
      ]
     },
     "metadata": {},
     "output_type": "display_data"
    },
    {
     "data": {
      "text/html": [
       "Resuming run <strong><a href='https://wandb.ai/ludekcizinsky/pbr-generation/runs/w5daifhx' target=\"_blank\">fast-universe-159</a></strong> to <a href='https://wandb.ai/ludekcizinsky/pbr-generation' target=\"_blank\">Weights & Biases</a> (<a href='https://wandb.me/developer-guide' target=\"_blank\">docs</a>)<br>"
      ],
      "text/plain": [
       "<IPython.core.display.HTML object>"
      ]
     },
     "metadata": {},
     "output_type": "display_data"
    },
    {
     "data": {
      "text/html": [
       " View project at <a href='https://wandb.ai/ludekcizinsky/pbr-generation' target=\"_blank\">https://wandb.ai/ludekcizinsky/pbr-generation</a>"
      ],
      "text/plain": [
       "<IPython.core.display.HTML object>"
      ]
     },
     "metadata": {},
     "output_type": "display_data"
    },
    {
     "data": {
      "text/html": [
       " View run at <a href='https://wandb.ai/ludekcizinsky/pbr-generation/runs/w5daifhx' target=\"_blank\">https://wandb.ai/ludekcizinsky/pbr-generation/runs/w5daifhx</a>"
      ],
      "text/plain": [
       "<IPython.core.display.HTML object>"
      ]
     },
     "metadata": {},
     "output_type": "display_data"
    }
   ],
   "source": [
    "run = wandb.init(entity=\"ludekcizinsky\", project=\"pbr-generation\", id=\"w5daifhx\", resume=\"must\")"
   ]
  },
  {
   "cell_type": "code",
   "execution_count": 27,
   "metadata": {},
   "outputs": [],
   "source": [
    "wandb_table = wandb.Table(dataframe=df)\n",
    "run.log({\"df_test\": wandb_table})"
   ]
  },
  {
   "cell_type": "code",
   "execution_count": 28,
   "metadata": {},
   "outputs": [
    {
     "data": {
      "text/html": [],
      "text/plain": [
       "<IPython.core.display.HTML object>"
      ]
     },
     "metadata": {},
     "output_type": "display_data"
    },
    {
     "data": {
      "text/html": [
       "<br>    <style><br>        .wandb-row {<br>            display: flex;<br>            flex-direction: row;<br>            flex-wrap: wrap;<br>            justify-content: flex-start;<br>            width: 100%;<br>        }<br>        .wandb-col {<br>            display: flex;<br>            flex-direction: column;<br>            flex-basis: 100%;<br>            flex: 1;<br>            padding: 10px;<br>        }<br>    </style><br><div class=\"wandb-row\"><div class=\"wandb-col\"><h3>Run summary:</h3><br/><table class=\"wandb\"><tr><td>epoch</td><td>0</td></tr><tr><td>optim/grad_norm_postclip</td><td>0.54837</td></tr><tr><td>optim/grad_norm_preclip</td><td>0.54837</td></tr><tr><td>optim/lr</td><td>1e-05</td></tr><tr><td>train/ddim_loss</td><td>0.25987</td></tr><tr><td>train/loss</td><td>0.20155</td></tr><tr><td>train/mse_loss</td><td>0.07161</td></tr><tr><td>trainer/global_step</td><td>17959</td></tr><tr><td>val/ddim_loss</td><td>0.20606</td></tr><tr><td>val/loss</td><td>0.21042</td></tr><tr><td>val/lpips</td><td>0.72417</td></tr><tr><td>val/mse_loss</td><td>0.10739</td></tr><tr><td>val/psnr</td><td>9.79625</td></tr><tr><td>val/ssim</td><td>0.07663</td></tr></table><br/></div></div>"
      ],
      "text/plain": [
       "<IPython.core.display.HTML object>"
      ]
     },
     "metadata": {},
     "output_type": "display_data"
    },
    {
     "data": {
      "text/html": [
       " View run <strong style=\"color:#cdcd00\">fast-universe-159</strong> at: <a href='https://wandb.ai/ludekcizinsky/pbr-generation/runs/w5daifhx' target=\"_blank\">https://wandb.ai/ludekcizinsky/pbr-generation/runs/w5daifhx</a><br> View project at: <a href='https://wandb.ai/ludekcizinsky/pbr-generation' target=\"_blank\">https://wandb.ai/ludekcizinsky/pbr-generation</a><br>Synced 5 W&B file(s), 1 media file(s), 2 artifact file(s) and 0 other file(s)"
      ],
      "text/plain": [
       "<IPython.core.display.HTML object>"
      ]
     },
     "metadata": {},
     "output_type": "display_data"
    },
    {
     "data": {
      "text/html": [
       "Find logs at: <code>./wandb/run-20250518_235421-w5daifhx/logs</code>"
      ],
      "text/plain": [
       "<IPython.core.display.HTML object>"
      ]
     },
     "metadata": {},
     "output_type": "display_data"
    }
   ],
   "source": [
    "run.finish()"
   ]
  },
  {
   "cell_type": "code",
   "execution_count": 8,
   "metadata": {},
   "outputs": [],
   "source": [
    "batch = next(iter(val_dataloader))"
   ]
  },
  {
   "cell_type": "code",
   "execution_count": null,
   "metadata": {},
   "outputs": [],
   "source": [
    "n = 5"
   ]
  },
  {
   "cell_type": "code",
   "execution_count": null,
   "metadata": {},
   "outputs": [],
   "source": [
    "# reconstructed_imgs = model.inference(batch[\"partial_diffuse_img\"][:n].to(\"cuda\"), num_inference_steps=50, guidance_scale=7.5, image_guidance_scale=1.5)\n",
    "partial_img = batch[\"partial_diffuse_img\"][2].unsqueeze(0).to(\"cuda\")\n",
    "image_guidance_scale = [2.5, 5.0, 7.5, 10.0]\n",
    "text_guidance_scale = [2.5, 5.0, 7.5, 10.0]\n",
    "results = []\n",
    "for img_scale in image_guidance_scale:\n",
    "    row_results = []\n",
    "    for t_scale in text_guidance_scale:\n",
    "        reconstructed_imgs = model.inference(partial_img, num_inference_steps=50, guidance_scale=t_scale, image_guidance_scale=img_scale)\n",
    "        row_results.extend(reconstructed_imgs)\n",
    "    results.append(row_results)\n"
   ]
  },
  {
   "cell_type": "code",
   "execution_count": null,
   "metadata": {},
   "outputs": [],
   "source": [
    "fig, axs = plt.subplots(\n",
    "    len(image_guidance_scale),\n",
    "    len(text_guidance_scale),\n",
    "    figsize=(5, 5),\n",
    "    tight_layout=True\n",
    ")\n",
    "\n",
    "for i, img_scale in enumerate(image_guidance_scale):\n",
    "    for j, t_scale in enumerate(text_guidance_scale):\n",
    "        ax = axs[i, j]\n",
    "        ax.imshow(results[i][j])\n",
    "        ax.set_xticks([])\n",
    "        ax.set_yticks([])\n",
    "        for spine in ax.spines.values():\n",
    "            spine.set_edgecolor('white')\n",
    "\n",
    "        # keep your per-row / per-col numeric labels if you want\n",
    "        if j == 0:\n",
    "            ax.set_ylabel(f\"{img_scale}\", rotation=0, labelpad=10, va='center')\n",
    "        if i == 0:\n",
    "            ax.set_title(f\"{t_scale}\")\n",
    "\n",
    "# now add the “global” labels\n",
    "fig.supxlabel(\"Text guidance scale\", fontsize=12)\n",
    "fig.supylabel(\"Image guidance scale\", fontsize=12)\n",
    "\n",
    "plt.show()"
   ]
  },
  {
   "cell_type": "code",
   "execution_count": 20,
   "metadata": {},
   "outputs": [],
   "source": [
    "cond_images = [torch_image_to_pil(img) for img in denormalise_image_torch(batch[\"partial_diffuse_img\"][:n])]\n",
    "target_images = [torch_image_to_pil(img) for img in denormalise_image_torch(batch[\"full_diffuse_img\"][:n])]"
   ]
  },
  {
   "cell_type": "code",
   "execution_count": null,
   "metadata": {},
   "outputs": [],
   "source": [
    "def plot_images(index):\n",
    "    fig, axs = plt.subplots(1, 3, figsize=(10, 5))\n",
    "    axs[0].imshow(cond_images[2])\n",
    "    axs[0].set_title(\"Condition\")\n",
    "    axs[0].axis(\"off\")\n",
    "    axs[1].imshow(results[index])\n",
    "    img_guidance = image_guidance_scale[index]\n",
    "    axs[1].set_title(f\"Predicted, IMG_GUIDE={img_guidance}\")\n",
    "    axs[1].axis(\"off\")\n",
    "    axs[2].imshow(target_images[2])\n",
    "    axs[2].set_title(\"Target\")\n",
    "    axs[2].axis(\"off\")\n",
    "    plt.show()\n",
    "\n",
    "interact(plot_images, index=IntSlider(min=0, max=len(results)-1, step=1));"
   ]
  },
  {
   "cell_type": "code",
   "execution_count": null,
   "metadata": {},
   "outputs": [],
   "source": []
  }
 ],
 "metadata": {
  "language_info": {
   "name": "python"
  }
 },
 "nbformat": 4,
 "nbformat_minor": 2
}
