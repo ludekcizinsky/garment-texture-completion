{
 "cells": [
  {
   "cell_type": "code",
   "execution_count": 1,
   "metadata": {},
   "outputs": [],
   "source": [
    "%load_ext autoreload\n",
    "%autoreload 2"
   ]
  },
  {
   "cell_type": "code",
   "execution_count": 2,
   "metadata": {},
   "outputs": [],
   "source": [
    "import os\n",
    "import sys\n",
    "sys.path.append('/home/cizinsky/garment-texture-completion')\n",
    "CKPT_ROOT = '/scratch/izar/cizinsky/garment-completion/checkpoints'\n",
    "\n",
    "from matplotlib import pyplot as plt\n",
    "from ipywidgets import interact, IntSlider\n",
    "import pytorch_lightning as pl\n",
    "\n",
    "import torch\n",
    "from torchvision.transforms.functional import pil_to_tensor\n",
    "from torchvision.utils import make_grid\n",
    "\n",
    "from helpers.pl_module import GarmentInpainterModule\n",
    "from helpers.dataset import get_dataloaders\n",
    "from helpers.data_utils import denormalise_image_torch\n",
    "from helpers.data_utils import torch_image_to_pil, denormalise_image_torch\n",
    "from helpers.metrics import compute_all_metrics\n",
    "\n",
    "from tqdm import tqdm\n",
    "\n",
    "import pandas as pd"
   ]
  },
  {
   "cell_type": "code",
   "execution_count": 3,
   "metadata": {},
   "outputs": [
    {
     "name": "stderr",
     "output_type": "stream",
     "text": [
      "Seed set to 42\n"
     ]
    }
   ],
   "source": [
    "pl.seed_everything(42);"
   ]
  },
  {
   "cell_type": "markdown",
   "metadata": {},
   "source": [
    "Checking when I last created the dataset:"
   ]
  },
  {
   "cell_type": "code",
   "execution_count": 11,
   "metadata": {},
   "outputs": [
    {
     "name": "stdout",
     "output_type": "stream",
     "text": [
      "  File: /scratch/izar/cizinsky/garment-completion/pbr_maps/dresscode/Batiste_Beige_Argyle/texture_diffuse.png\n",
      "  Size: 748130    \tBlocks: 1472       IO Block: 4194304 regular file\n",
      "Device: 31h/49d\tInode: 60784366    Links: 1\n",
      "Access: (0644/-rw-r--r--)  Uid: (278297/cizinsky)   Gid: (30207/sc-ma4-unit)\n",
      "Access: 2025-05-17 05:22:28.008988194 +0200\n",
      "Modify: 2025-05-06 23:44:34.955320223 +0200\n",
      "Change: 2025-05-06 23:44:34.955320223 +0200\n",
      " Birth: -\n"
     ]
    }
   ],
   "source": [
    "!stat /scratch/izar/cizinsky/garment-completion/pbr_maps/dresscode/Batiste_Beige_Argyle/texture_diffuse.png"
   ]
  },
  {
   "cell_type": "markdown",
   "metadata": {},
   "source": [
    "### Inspection of trained models\n",
    "\n",
    "---\n"
   ]
  },
  {
   "cell_type": "code",
   "execution_count": 4,
   "metadata": {},
   "outputs": [
    {
     "name": "stdout",
     "output_type": "stream",
     "text": [
      "bright-universe-112  fast-universe-159\t    rose-sun-129\n",
      "cerulean-smoke-152   fearless-jazz-157\t    sandy-capybara-119\n",
      "cerulean-star-109    fluent-aardvark-116    soft-dust-146\n",
      "cosmic-cosmos-123    glamorous-thunder-121  stellar-feather-136\n",
      "crisp-cosmos-153     glorious-oath-130\t    stellar-pond-132\n",
      "curious-oath-144     glowing-disco-164\t    swift-lake-110\n",
      "devout-wind-122      graceful-cloud-156     twilight-sponge-160\n",
      "eager-energy-111     grateful-terrain-163   unique-water-133\n",
      "exalted-forest-117   honest-bird-113\t    valiant-resonance-120\n",
      "faithful-dew-158     lilac-hill-102\t    vivid-smoke-128\n",
      "fallen-dew-140\t     morning-microwave-118  worthy-paper-139\n",
      "fallen-shape-155     peach-firebrand-106\n"
     ]
    }
   ],
   "source": [
    "!ls /scratch/izar/cizinsky/garment-completion/checkpoints/"
   ]
  },
  {
   "cell_type": "code",
   "execution_count": 5,
   "metadata": {},
   "outputs": [
    {
     "data": {
      "text/plain": [
       "True"
      ]
     },
     "execution_count": 5,
     "metadata": {},
     "output_type": "execute_result"
    }
   ],
   "source": [
    "run_name = \"fast-universe-159\"\n",
    "checkpoint_path = f\"{CKPT_ROOT}/{run_name}/last.ckpt\"\n",
    "os.path.exists(checkpoint_path)"
   ]
  },
  {
   "cell_type": "code",
   "execution_count": 6,
   "metadata": {},
   "outputs": [],
   "source": [
    "checkpoint = torch.load(checkpoint_path, map_location=\"cpu\", weights_only=False)\n",
    "cfg = checkpoint[\"hyper_parameters\"]\n",
    "cfg.data.num_workers = 10\n",
    "cfg.data.batch_size = 2\n",
    "trn_dataloader, val_dataloader = get_dataloaders(cfg)"
   ]
  },
  {
   "cell_type": "code",
   "execution_count": 7,
   "metadata": {},
   "outputs": [
    {
     "data": {
      "application/vnd.jupyter.widget-view+json": {
       "model_id": "57a329b6360544008f116c3bc3996267",
       "version_major": 2,
       "version_minor": 0
      },
      "text/plain": [
       "Loading pipeline components...:   0%|          | 0/6 [00:00<?, ?it/s]"
      ]
     },
     "metadata": {},
     "output_type": "display_data"
    },
    {
     "name": "stdout",
     "output_type": "stream",
     "text": [
      "✅ Model loaded!\n"
     ]
    }
   ],
   "source": [
    "model = GarmentInpainterModule(cfg, trn_dataloader)\n",
    "model.setup()\n",
    "model.load_state_dict(checkpoint[\"state_dict\"])\n",
    "model.eval().cuda()\n",
    "print(\"✅ Model loaded!\")"
   ]
  },
  {
   "cell_type": "code",
   "execution_count": 8,
   "metadata": {},
   "outputs": [],
   "source": [
    "max_n_batches = 5\n",
    "val_batches = [next(iter(val_dataloader)) for _ in range(max_n_batches)]"
   ]
  },
  {
   "cell_type": "markdown",
   "metadata": {},
   "source": [
    "### Explore role of inference hyperparameters"
   ]
  },
  {
   "cell_type": "code",
   "execution_count": null,
   "metadata": {},
   "outputs": [],
   "source": [
    "batch = val_batches[0]"
   ]
  },
  {
   "cell_type": "code",
   "execution_count": null,
   "metadata": {},
   "outputs": [],
   "source": [
    "partial_img = batch[\"partial_diffuse_img\"][2].unsqueeze(0).to(\"cuda\")\n",
    "image_guidance_scale = [2.5, 5.0, 7.5, 10.0]\n",
    "text_guidance_scale = [2.5, 5.0, 7.5, 10.0]\n",
    "results = []\n",
    "for img_scale in image_guidance_scale:\n",
    "    row_results = []\n",
    "    for t_scale in text_guidance_scale:\n",
    "        reconstructed_imgs = model.inference(partial_img, num_inference_steps=50, guidance_scale=t_scale, image_guidance_scale=img_scale)\n",
    "        row_results.extend(reconstructed_imgs)\n",
    "    results.append(row_results)\n"
   ]
  },
  {
   "cell_type": "code",
   "execution_count": null,
   "metadata": {},
   "outputs": [],
   "source": [
    "fig, axs = plt.subplots(\n",
    "    len(image_guidance_scale),\n",
    "    len(text_guidance_scale),\n",
    "    figsize=(5, 5),\n",
    "    tight_layout=True\n",
    ")\n",
    "\n",
    "for i, img_scale in enumerate(image_guidance_scale):\n",
    "    for j, t_scale in enumerate(text_guidance_scale):\n",
    "        ax = axs[i, j]\n",
    "        ax.imshow(results[i][j])\n",
    "        ax.set_xticks([])\n",
    "        ax.set_yticks([])\n",
    "        for spine in ax.spines.values():\n",
    "            spine.set_edgecolor('white')\n",
    "\n",
    "        # keep your per-row / per-col numeric labels if you want\n",
    "        if j == 0:\n",
    "            ax.set_ylabel(f\"{img_scale}\", rotation=0, labelpad=10, va='center')\n",
    "        if i == 0:\n",
    "            ax.set_title(f\"{t_scale}\")\n",
    "\n",
    "# now add the “global” labels\n",
    "fig.supxlabel(\"Text guidance scale\", fontsize=12)\n",
    "fig.supylabel(\"Image guidance scale\", fontsize=12)\n",
    "\n",
    "plt.show()"
   ]
  },
  {
   "cell_type": "markdown",
   "metadata": {},
   "source": [
    "### Play around with inference hyperparameters"
   ]
  },
  {
   "cell_type": "code",
   "execution_count": null,
   "metadata": {},
   "outputs": [],
   "source": [
    "batch = val_batches[0]"
   ]
  },
  {
   "cell_type": "code",
   "execution_count": null,
   "metadata": {},
   "outputs": [],
   "source": [
    "reconstructed_imgs = model.inference(batch[\"partial_diffuse_img\"][:n].to(\"cuda\"), num_inference_steps=50, guidance_scale=7.5, image_guidance_scale=1.5)"
   ]
  },
  {
   "cell_type": "code",
   "execution_count": 20,
   "metadata": {},
   "outputs": [],
   "source": [
    "cond_images = [torch_image_to_pil(img) for img in denormalise_image_torch(batch[\"partial_diffuse_img\"][:n])]\n",
    "target_images = [torch_image_to_pil(img) for img in denormalise_image_torch(batch[\"full_diffuse_img\"][:n])]"
   ]
  },
  {
   "cell_type": "code",
   "execution_count": null,
   "metadata": {},
   "outputs": [],
   "source": [
    "def plot_images(index):\n",
    "    fig, axs = plt.subplots(1, 3, figsize=(10, 5))\n",
    "    axs[0].imshow(cond_images[2])\n",
    "    axs[0].set_title(\"Condition\")\n",
    "    axs[0].axis(\"off\")\n",
    "    axs[1].imshow(results[index])\n",
    "    img_guidance = image_guidance_scale[index]\n",
    "    axs[1].set_title(f\"Predicted, IMG_GUIDE={img_guidance}\")\n",
    "    axs[1].axis(\"off\")\n",
    "    axs[2].imshow(target_images[2])\n",
    "    axs[2].set_title(\"Target\")\n",
    "    axs[2].axis(\"off\")\n",
    "    plt.show()\n",
    "\n",
    "interact(plot_images, index=IntSlider(min=0, max=len(results)-1, step=1));"
   ]
  },
  {
   "cell_type": "markdown",
   "metadata": {},
   "source": [
    "### Inspect results of the ablation on image vs text guidance"
   ]
  },
  {
   "cell_type": "code",
   "execution_count": 23,
   "metadata": {},
   "outputs": [],
   "source": [
    "import wandb\n",
    "import json\n",
    "\n",
    "import seaborn as sns\n",
    "import matplotlib.pyplot as plt"
   ]
  },
  {
   "cell_type": "code",
   "execution_count": 14,
   "metadata": {},
   "outputs": [],
   "source": [
    "tmp_dir = \"/scratch/izar/cizinsky/garment-completion/tmp\""
   ]
  },
  {
   "cell_type": "code",
   "execution_count": 15,
   "metadata": {},
   "outputs": [
    {
     "name": "stderr",
     "output_type": "stream",
     "text": [
      "\u001b[34m\u001b[1mwandb\u001b[0m: Using wandb-core as the SDK backend.  Please refer to https://wandb.me/wandb-core for more information.\n",
      "\u001b[34m\u001b[1mwandb\u001b[0m: Currently logged in as: \u001b[33mludekcizinsky\u001b[0m to \u001b[32mhttps://api.wandb.ai\u001b[0m. Use \u001b[1m`wandb login --relogin`\u001b[0m to force relogin\n"
     ]
    },
    {
     "data": {
      "text/html": [
       "Tracking run with wandb version 0.19.7"
      ],
      "text/plain": [
       "<IPython.core.display.HTML object>"
      ]
     },
     "metadata": {},
     "output_type": "display_data"
    },
    {
     "data": {
      "text/html": [
       "Run data is saved locally in <code>/home/cizinsky/garment-texture-completion/notebooks/wandb/run-20250524_152653-yhwo38lp</code>"
      ],
      "text/plain": [
       "<IPython.core.display.HTML object>"
      ]
     },
     "metadata": {},
     "output_type": "display_data"
    },
    {
     "data": {
      "text/html": [
       "Syncing run <strong><a href='https://wandb.ai/ludekcizinsky/garment-texture-completion-notebooks/runs/yhwo38lp' target=\"_blank\">major-glade-1</a></strong> to <a href='https://wandb.ai/ludekcizinsky/garment-texture-completion-notebooks' target=\"_blank\">Weights & Biases</a> (<a href='https://wandb.me/developer-guide' target=\"_blank\">docs</a>)<br>"
      ],
      "text/plain": [
       "<IPython.core.display.HTML object>"
      ]
     },
     "metadata": {},
     "output_type": "display_data"
    },
    {
     "data": {
      "text/html": [
       " View project at <a href='https://wandb.ai/ludekcizinsky/garment-texture-completion-notebooks' target=\"_blank\">https://wandb.ai/ludekcizinsky/garment-texture-completion-notebooks</a>"
      ],
      "text/plain": [
       "<IPython.core.display.HTML object>"
      ]
     },
     "metadata": {},
     "output_type": "display_data"
    },
    {
     "data": {
      "text/html": [
       " View run at <a href='https://wandb.ai/ludekcizinsky/garment-texture-completion-notebooks/runs/yhwo38lp' target=\"_blank\">https://wandb.ai/ludekcizinsky/garment-texture-completion-notebooks/runs/yhwo38lp</a>"
      ],
      "text/plain": [
       "<IPython.core.display.HTML object>"
      ]
     },
     "metadata": {},
     "output_type": "display_data"
    },
    {
     "name": "stderr",
     "output_type": "stream",
     "text": [
      "\u001b[34m\u001b[1mwandb\u001b[0m:   1 of 1 files downloaded.  \n"
     ]
    },
    {
     "data": {
      "text/plain": [
       "'/scratch/izar/cizinsky/garment-completion/tmp'"
      ]
     },
     "execution_count": 15,
     "metadata": {},
     "output_type": "execute_result"
    }
   ],
   "source": [
    "run = wandb.init()\n",
    "artifact = run.use_artifact('ludekcizinsky/pbr-generation/run-w5daifhx-best_inference_setup:v0', type='run_table')\n",
    "artifact.download(tmp_dir)"
   ]
  },
  {
   "cell_type": "code",
   "execution_count": 16,
   "metadata": {},
   "outputs": [
    {
     "name": "stdout",
     "output_type": "stream",
     "text": [
      "best_inference_setup.table.json\n"
     ]
    }
   ],
   "source": [
    "!ls {tmp_dir}"
   ]
  },
  {
   "cell_type": "code",
   "execution_count": 21,
   "metadata": {},
   "outputs": [
    {
     "name": "stdout",
     "output_type": "stream",
     "text": [
      "df.shape: (2500, 6)\n"
     ]
    },
    {
     "data": {
      "text/html": [
       "<div>\n",
       "<style scoped>\n",
       "    .dataframe tbody tr th:only-of-type {\n",
       "        vertical-align: middle;\n",
       "    }\n",
       "\n",
       "    .dataframe tbody tr th {\n",
       "        vertical-align: top;\n",
       "    }\n",
       "\n",
       "    .dataframe thead th {\n",
       "        text-align: right;\n",
       "    }\n",
       "</style>\n",
       "<table border=\"1\" class=\"dataframe\">\n",
       "  <thead>\n",
       "    <tr style=\"text-align: right;\">\n",
       "      <th></th>\n",
       "      <th>sample_idx</th>\n",
       "      <th>img_scale</th>\n",
       "      <th>text_scale</th>\n",
       "      <th>ssim</th>\n",
       "      <th>psnr</th>\n",
       "      <th>lpips</th>\n",
       "    </tr>\n",
       "  </thead>\n",
       "  <tbody>\n",
       "    <tr>\n",
       "      <th>0</th>\n",
       "      <td>0</td>\n",
       "      <td>1.5</td>\n",
       "      <td>1.5</td>\n",
       "      <td>0.077438</td>\n",
       "      <td>14.522379</td>\n",
       "      <td>0.636522</td>\n",
       "    </tr>\n",
       "    <tr>\n",
       "      <th>1</th>\n",
       "      <td>1</td>\n",
       "      <td>1.5</td>\n",
       "      <td>1.5</td>\n",
       "      <td>0.118236</td>\n",
       "      <td>20.316708</td>\n",
       "      <td>0.712009</td>\n",
       "    </tr>\n",
       "    <tr>\n",
       "      <th>2</th>\n",
       "      <td>2</td>\n",
       "      <td>1.5</td>\n",
       "      <td>1.5</td>\n",
       "      <td>0.005973</td>\n",
       "      <td>12.173512</td>\n",
       "      <td>0.627456</td>\n",
       "    </tr>\n",
       "    <tr>\n",
       "      <th>3</th>\n",
       "      <td>3</td>\n",
       "      <td>1.5</td>\n",
       "      <td>1.5</td>\n",
       "      <td>0.047689</td>\n",
       "      <td>8.358482</td>\n",
       "      <td>0.749382</td>\n",
       "    </tr>\n",
       "    <tr>\n",
       "      <th>4</th>\n",
       "      <td>4</td>\n",
       "      <td>1.5</td>\n",
       "      <td>1.5</td>\n",
       "      <td>0.059711</td>\n",
       "      <td>11.917653</td>\n",
       "      <td>0.594570</td>\n",
       "    </tr>\n",
       "  </tbody>\n",
       "</table>\n",
       "</div>"
      ],
      "text/plain": [
       "   sample_idx  img_scale  text_scale      ssim       psnr     lpips\n",
       "0           0        1.5         1.5  0.077438  14.522379  0.636522\n",
       "1           1        1.5         1.5  0.118236  20.316708  0.712009\n",
       "2           2        1.5         1.5  0.005973  12.173512  0.627456\n",
       "3           3        1.5         1.5  0.047689   8.358482  0.749382\n",
       "4           4        1.5         1.5  0.059711  11.917653  0.594570"
      ]
     },
     "execution_count": 21,
     "metadata": {},
     "output_type": "execute_result"
    }
   ],
   "source": [
    "with open(f'{tmp_dir}/best_inference_setup.table.json', 'r') as f:\n",
    "    table_json = json.load(f)\n",
    "\n",
    "df = pd.DataFrame(\n",
    "    table_json['data'],\n",
    "    columns=table_json['columns']\n",
    ")\n",
    "\n",
    "print(f\"df.shape: {df.shape}\")\n",
    "df.head()"
   ]
  },
  {
   "cell_type": "code",
   "execution_count": null,
   "metadata": {},
   "outputs": [
    {
     "data": {
      "text/html": [
       "<div>\n",
       "<style scoped>\n",
       "    .dataframe tbody tr th:only-of-type {\n",
       "        vertical-align: middle;\n",
       "    }\n",
       "\n",
       "    .dataframe tbody tr th {\n",
       "        vertical-align: top;\n",
       "    }\n",
       "\n",
       "    .dataframe thead th {\n",
       "        text-align: right;\n",
       "    }\n",
       "</style>\n",
       "<table border=\"1\" class=\"dataframe\">\n",
       "  <thead>\n",
       "    <tr style=\"text-align: right;\">\n",
       "      <th></th>\n",
       "      <th>text_scale</th>\n",
       "      <th>img_scale</th>\n",
       "      <th>mean_ssim</th>\n",
       "      <th>mean_psnr</th>\n",
       "      <th>mean_lpips</th>\n",
       "    </tr>\n",
       "  </thead>\n",
       "  <tbody>\n",
       "    <tr>\n",
       "      <th>0</th>\n",
       "      <td>1.5</td>\n",
       "      <td>1.5</td>\n",
       "      <td>0.075696</td>\n",
       "      <td>11.066522</td>\n",
       "      <td>0.661568</td>\n",
       "    </tr>\n",
       "    <tr>\n",
       "      <th>1</th>\n",
       "      <td>1.5</td>\n",
       "      <td>2.5</td>\n",
       "      <td>0.082375</td>\n",
       "      <td>10.985801</td>\n",
       "      <td>0.644519</td>\n",
       "    </tr>\n",
       "    <tr>\n",
       "      <th>2</th>\n",
       "      <td>1.5</td>\n",
       "      <td>5.0</td>\n",
       "      <td>0.092161</td>\n",
       "      <td>10.216820</td>\n",
       "      <td>0.670103</td>\n",
       "    </tr>\n",
       "    <tr>\n",
       "      <th>3</th>\n",
       "      <td>1.5</td>\n",
       "      <td>7.5</td>\n",
       "      <td>0.092034</td>\n",
       "      <td>10.048200</td>\n",
       "      <td>0.681120</td>\n",
       "    </tr>\n",
       "    <tr>\n",
       "      <th>4</th>\n",
       "      <td>1.5</td>\n",
       "      <td>10.0</td>\n",
       "      <td>0.092771</td>\n",
       "      <td>9.810061</td>\n",
       "      <td>0.684917</td>\n",
       "    </tr>\n",
       "  </tbody>\n",
       "</table>\n",
       "</div>"
      ],
      "text/plain": [
       "   text_scale  img_scale  mean_ssim  mean_psnr  mean_lpips\n",
       "0         1.5        1.5   0.075696  11.066522    0.661568\n",
       "1         1.5        2.5   0.082375  10.985801    0.644519\n",
       "2         1.5        5.0   0.092161  10.216820    0.670103\n",
       "3         1.5        7.5   0.092034  10.048200    0.681120\n",
       "4         1.5       10.0   0.092771   9.810061    0.684917"
      ]
     },
     "execution_count": 42,
     "metadata": {},
     "output_type": "execute_result"
    }
   ],
   "source": []
  },
  {
   "cell_type": "code",
   "execution_count": 41,
   "metadata": {},
   "outputs": [
    {
     "data": {
      "image/png": "[encoded data removed]",
      "text/plain": [
       "<Figure size 1200x500 with 1 Axes>"
      ]
     },
     "metadata": {},
     "output_type": "display_data"
    }
   ],
   "source": [
    "grouped = (\n",
    "    df\n",
    "    .groupby(['text_scale','img_scale'])\n",
    "    .agg(mean_ssim = ('ssim','mean'),\n",
    "         mean_psnr = ('psnr','mean'),\n",
    "         mean_lpips= ('lpips','mean'))\n",
    "    .reset_index()\n",
    ")\n",
    "\n",
    "# ─── 3. MAKE A COMBO LABEL ──────────────────────────────────────────────────────\n",
    "grouped['combo'] = grouped.apply(\n",
    "    lambda r: f\"({r.text_scale}, {r.img_scale})\", axis=1\n",
    ")\n",
    "\n",
    "# ─── 4. FLAG TOP-3 ──────────────────────────────────────────────────────────────\n",
    "# sort descending and mark top3\n",
    "grouped = grouped.sort_values(f'mean_ssim', ascending=False).reset_index(drop=True)\n",
    "grouped['highlight'] = ['Top 3' if i < 3 else 'Other' for i in grouped.index]\n",
    "\n",
    "# ─── 5. PLOT ───────────────────────────────────────────────────────────────────\n",
    "sns.set_style(\"white\")  # clean background\n",
    "\n",
    "plt.figure(figsize=(12,5))\n",
    "bar = sns.barplot(\n",
    "    data=grouped,\n",
    "    x='combo', y='mean_ssim',\n",
    "    hue='highlight', dodge=False,\n",
    "    palette={'Top 3': \"#08023d\", 'Other': 'lightgrey'}  # seaborn defaults for Top 3, grey for others\n",
    ")\n",
    "ax = bar\n",
    "ax.set_xticks(range(len(grouped)))\n",
    "ax.set_xticklabels(grouped['combo'], rotation=45, ha='right')\n",
    "ax.spines['top'].set_visible(False)\n",
    "ax.spines['right'].set_visible(False)\n",
    "bar.set_xlabel('Guidance (Text scale, Img scale)')\n",
    "bar.set_ylabel('Mean SSIM')\n",
    "bar.set_title('Mean (over 100 samples) SSIM (↑) per guidance configuration')\n",
    "\n",
    "# remove the legend title and frame\n",
    "bar.legend_.set_title(None)\n",
    "plt.tight_layout()\n",
    "plt.show()"
   ]
  }
 ],
 "metadata": {
  "language_info": {
   "name": "python"
  }
 },
 "nbformat": 4,
 "nbformat_minor": 2
}
